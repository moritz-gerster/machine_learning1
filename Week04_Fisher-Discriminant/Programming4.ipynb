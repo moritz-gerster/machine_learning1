{
 "cells": [
  {
   "cell_type": "markdown",
   "metadata": {},
   "source": [
    "# Fisher Linear Discriminant\n",
    "\n",
    "In this exercise, we apply Fisher Linear Discriminant as described in Chapter 3.8.2 of Duda et al. on the UCI Abalone dataset. A description of the dataset is given at the page https://archive.ics.uci.edu/ml/datasets/Abalone. The following two methods are provided for your convenience: \n",
    "\n",
    "\n",
    "* **`utils.Abalone.__init__(self)`** reads the Abalone data and instantiates two data matrices corresponding to: *infant (I)*, *non-infant (N)*.\n",
    "\n",
    "\n",
    "* **`utils.Abalone.plot(self,w)`** produces a histogram of the data when projected onto a vector `w`, and where each class is shown in a different color.\n",
    "\n",
    "\n",
    "Sample code that makes use of these two methods is given below. It loads the data, looks at the shape of instantiated matrices, and plots the projection on the first dimension of the data representing the length of the abalone."
   ]
  },
  {
   "cell_type": "code",
   "execution_count": 1,
   "metadata": {},
   "outputs": [
    {
     "name": "stdout",
     "output_type": "stream",
     "text": [
      "(1342, 7) (2835, 7)\n"
     ]
    },
    {
     "data": {
      "image/png": "[encoded data removed]",
      "text/plain": [
       "<Figure size 432x144 with 1 Axes>"
      ]
     },
     "metadata": {
      "needs_background": "light"
     },
     "output_type": "display_data"
    }
   ],
   "source": [
    "import numpy as np\n",
    "import utils\n",
    "\n",
    "# Load the data\n",
    "abalone = utils.Abalone()\n",
    "\n",
    "# Print dataset size for each class\n",
    "print(abalone.I.shape, abalone.N.shape)\n",
    "\n",
    "# Project data on the first dimension\n",
    "w1 = np.array([1, 0, 0, 0, 0, 0, 0])\n",
    "abalone.plot(w1,'projection on the first dimension (length)')"
   ]
  },
  {
   "cell_type": "markdown",
   "metadata": {},
   "source": [
    "## Implementation (10 + 5 + 5 = 20 P)\n",
    "\n",
    "* **Create a function `w = fisher(X1,X2)` that takes as input the data for two classes and returns the Fisher linear discriminant.**\n",
    "\n",
    "\n",
    "* **Create a function `objective(X1,X2,w)` that evaluates the objective defined in Equation 96 of Duda et al. for an arbitrary projection vector `w`.**\n",
    "\n",
    "\n",
    "* **Create a function `z = phi(X)` that returns a quadratic expansion for each data point `x` in the dataset. Such expansion consists of the vector `x` itself, to which we concatenate the vector of all pairwise products between elements of `x`.** In other words, letting $x = (x_1,\\dots,x_d)$ denote the $d$-dimensional data point, the quadratic expansion for this data point is a $d \\cdot (d+3)/2$ dimensional vector given by $\\phi(x) = (x_i)_{1 \\leq i \\leq d} \\cup (x_i x_j)_{1 \\leq i \\leq j \\leq d}$. For example, the quadratic expansion for $d=2$ is $(x_1,x_2,x_1^2,x_2^2,x_1 x_2)$."
   ]
  },
  {
   "cell_type": "code",
   "execution_count": 10,
   "metadata": {},
   "outputs": [],
   "source": [
    "def fisher(X1, X2):\n",
    "    m1 = X1.mean(0)\n",
    "    m2 = X2.mean(0)\n",
    "    S_W = (X1 - m1).T @ (X1 - m1) + (X2 - m2).T @ (X2 - m2)\n",
    "    w = np.linalg.pinv(S_W) @ (m1 - m2)\n",
    "    return w\n",
    "\n",
    "    \n",
    "def objective(X1, X2, w):\n",
    "    m1 = X1.mean(0)\n",
    "    m2 = X2.mean(0)\n",
    "    s_tilde1 = ((X1 - m1) @ w)**2\n",
    "    s_tilde2 = ((X2 - m2) @ w)**2\n",
    "    w = ((m1 - m2) @ w)**2 / ((s_tilde1).sum() + (s_tilde2).sum())\n",
    "    return w\n",
    "\n",
    "\n",
    "def expand(X):\n",
    "    from itertools import combinations\n",
    "    N = X.shape[0]\n",
    "    d = X.shape[1]\n",
    "    dim = d * (d+3) // 2\n",
    "    expanded = np.zeros((N, dim))\n",
    "    for idx, x in enumerate(X):\n",
    "        vector_itself = x\n",
    "        vector_squared = x**2\n",
    "        pairwise_products = [x[i] * x[j] for i, j in combinations(range(d), 2)]\n",
    "        concat = np.concatenate([vector_itself,\n",
    "                                vector_squared,\n",
    "                                pairwise_products])\n",
    "        expanded[idx] = concat\n",
    "    return expanded"
   ]
  },
  {
   "cell_type": "markdown",
   "metadata": {},
   "source": [
    "## Analysis (5 + 5 = 10 P)\n",
    "\n",
    "* **Print value of the objective function and the histogram for several values of `w`:**\n",
    "\n",
    "  * `w` is a canonical coordinate vector for the first feature (length).\n",
    "  * `w` is the difference between the mean vectors of the two classes.\n",
    "  * `w` is the Fisher linear discriminant.\n",
    "  * `w` is the Fisher linear discriminant (after quadratic expansion of the data)."
   ]
  },
  {
   "cell_type": "code",
   "execution_count": 11,
   "metadata": {},
   "outputs": [
    {
     "name": "stdout",
     "output_type": "stream",
     "text": [
      "First dimension (length): 0.00048\n"
     ]
    },
    {
     "data": {
      "image/png": "[encoded data removed]",
      "text/plain": [
       "<Figure size 432x144 with 1 Axes>"
      ]
     },
     "metadata": {
      "needs_background": "light"
     },
     "output_type": "display_data"
    },
    {
     "name": "stdout",
     "output_type": "stream",
     "text": [
      "Means linear: 0.00050\n"
     ]
    },
    {
     "data": {
      "image/png": "[encoded data removed]",
      "text/plain": [
       "<Figure size 432x144 with 1 Axes>"
      ]
     },
     "metadata": {
      "needs_background": "light"
     },
     "output_type": "display_data"
    },
    {
     "ename": "LinAlgError",
     "evalue": "0-dimensional array given. Array must be at least two-dimensional",
     "output_type": "error",
     "traceback": [
      "\u001b[0;31m---------------------------------------------------------------------------\u001b[0m",
      "\u001b[0;31mLinAlgError\u001b[0m                               Traceback (most recent call last)",
      "\u001b[1;32m/Users/moritzgerster/Documents/Code/ML1/Week4/Exercise sheet 4 (programming)-20211113/sheet04-programming/sheet04-programming.ipynb Cell 7'\u001b[0m in \u001b[0;36m<module>\u001b[0;34m\u001b[0m\n\u001b[1;32m      <a href='vscode-notebook-cell:/Users/moritzgerster/Documents/Code/ML1/Week4/Exercise%20sheet%204%20%28programming%29-20211113/sheet04-programming/sheet04-programming.ipynb#ch0000005?line=5'>6</a>\u001b[0m \u001b[39mprint\u001b[39m(\u001b[39mf\u001b[39m\u001b[39m\"\u001b[39m\u001b[39mMeans linear: \u001b[39m\u001b[39m{\u001b[39;00mobjective(abalone\u001b[39m.\u001b[39mI, abalone\u001b[39m.\u001b[39mN, w2)\u001b[39m:\u001b[39;00m\u001b[39m.5f\u001b[39m\u001b[39m}\u001b[39;00m\u001b[39m\"\u001b[39m)\n\u001b[1;32m      <a href='vscode-notebook-cell:/Users/moritzgerster/Documents/Code/ML1/Week4/Exercise%20sheet%204%20%28programming%29-20211113/sheet04-programming/sheet04-programming.ipynb#ch0000005?line=6'>7</a>\u001b[0m abalone\u001b[39m.\u001b[39mplot(w2, \u001b[39m\"\u001b[39m\u001b[39mMean\u001b[39m\u001b[39m\"\u001b[39m)\n\u001b[0;32m---> <a href='vscode-notebook-cell:/Users/moritzgerster/Documents/Code/ML1/Week4/Exercise%20sheet%204%20%28programming%29-20211113/sheet04-programming/sheet04-programming.ipynb#ch0000005?line=9'>10</a>\u001b[0m w3 \u001b[39m=\u001b[39m fisher(abalone\u001b[39m.\u001b[39;49mI, abalone\u001b[39m.\u001b[39;49mN)\n\u001b[1;32m     <a href='vscode-notebook-cell:/Users/moritzgerster/Documents/Code/ML1/Week4/Exercise%20sheet%204%20%28programming%29-20211113/sheet04-programming/sheet04-programming.ipynb#ch0000005?line=10'>11</a>\u001b[0m \u001b[39mprint\u001b[39m(\u001b[39mf\u001b[39m\u001b[39m\"\u001b[39m\u001b[39mFisher: \u001b[39m\u001b[39m{\u001b[39;00mobjective(abalone\u001b[39m.\u001b[39mI, abalone\u001b[39m.\u001b[39mN, w3)\u001b[39m:\u001b[39;00m\u001b[39m.5f\u001b[39m\u001b[39m}\u001b[39;00m\u001b[39m\"\u001b[39m)\n\u001b[1;32m     <a href='vscode-notebook-cell:/Users/moritzgerster/Documents/Code/ML1/Week4/Exercise%20sheet%204%20%28programming%29-20211113/sheet04-programming/sheet04-programming.ipynb#ch0000005?line=11'>12</a>\u001b[0m abalone\u001b[39m.\u001b[39mplot(w3, \u001b[39m\"\u001b[39m\u001b[39mFisher\u001b[39m\u001b[39m\"\u001b[39m)\n",
      "\u001b[1;32m/Users/moritzgerster/Documents/Code/ML1/Week4/Exercise sheet 4 (programming)-20211113/sheet04-programming/sheet04-programming.ipynb Cell 5'\u001b[0m in \u001b[0;36mfisher\u001b[0;34m(X1, X2)\u001b[0m\n\u001b[1;32m     <a href='vscode-notebook-cell:/Users/moritzgerster/Documents/Code/ML1/Week4/Exercise%20sheet%204%20%28programming%29-20211113/sheet04-programming/sheet04-programming.ipynb#ch0000003?line=9'>10</a>\u001b[0m m2 \u001b[39m=\u001b[39m X2\u001b[39m.\u001b[39mmean(\u001b[39m0\u001b[39m)\n\u001b[1;32m     <a href='vscode-notebook-cell:/Users/moritzgerster/Documents/Code/ML1/Week4/Exercise%20sheet%204%20%28programming%29-20211113/sheet04-programming/sheet04-programming.ipynb#ch0000003?line=10'>11</a>\u001b[0m S_W \u001b[39m=\u001b[39m (m2 \u001b[39m-\u001b[39m m1) \u001b[39m@\u001b[39m (m2 \u001b[39m-\u001b[39m m1)\u001b[39m.\u001b[39mT\n\u001b[0;32m---> <a href='vscode-notebook-cell:/Users/moritzgerster/Documents/Code/ML1/Week4/Exercise%20sheet%204%20%28programming%29-20211113/sheet04-programming/sheet04-programming.ipynb#ch0000003?line=11'>12</a>\u001b[0m w \u001b[39m=\u001b[39m np\u001b[39m.\u001b[39;49mlinalg\u001b[39m.\u001b[39;49mpinv(S_W) \u001b[39m@\u001b[39m (m2 \u001b[39m-\u001b[39m m1)\n\u001b[1;32m     <a href='vscode-notebook-cell:/Users/moritzgerster/Documents/Code/ML1/Week4/Exercise%20sheet%204%20%28programming%29-20211113/sheet04-programming/sheet04-programming.ipynb#ch0000003?line=12'>13</a>\u001b[0m \u001b[39mreturn\u001b[39;00m w\n",
      "File \u001b[0;32m<__array_function__ internals>:180\u001b[0m, in \u001b[0;36mpinv\u001b[0;34m(*args, **kwargs)\u001b[0m\n",
      "File \u001b[0;32m/opt/anaconda3/envs/deep/lib/python3.10/site-packages/numpy/linalg/linalg.py:1990\u001b[0m, in \u001b[0;36mpinv\u001b[0;34m(a, rcond, hermitian)\u001b[0m\n\u001b[1;32m   <a href='file:///opt/anaconda3/envs/deep/lib/python3.10/site-packages/numpy/linalg/linalg.py?line=1987'>1988</a>\u001b[0m     \u001b[39mreturn\u001b[39;00m wrap(res)\n\u001b[1;32m   <a href='file:///opt/anaconda3/envs/deep/lib/python3.10/site-packages/numpy/linalg/linalg.py?line=1988'>1989</a>\u001b[0m a \u001b[39m=\u001b[39m a\u001b[39m.\u001b[39mconjugate()\n\u001b[0;32m-> <a href='file:///opt/anaconda3/envs/deep/lib/python3.10/site-packages/numpy/linalg/linalg.py?line=1989'>1990</a>\u001b[0m u, s, vt \u001b[39m=\u001b[39m svd(a, full_matrices\u001b[39m=\u001b[39;49m\u001b[39mFalse\u001b[39;49;00m, hermitian\u001b[39m=\u001b[39;49mhermitian)\n\u001b[1;32m   <a href='file:///opt/anaconda3/envs/deep/lib/python3.10/site-packages/numpy/linalg/linalg.py?line=1991'>1992</a>\u001b[0m \u001b[39m# discard small singular values\u001b[39;00m\n\u001b[1;32m   <a href='file:///opt/anaconda3/envs/deep/lib/python3.10/site-packages/numpy/linalg/linalg.py?line=1992'>1993</a>\u001b[0m cutoff \u001b[39m=\u001b[39m rcond[\u001b[39m.\u001b[39m\u001b[39m.\u001b[39m\u001b[39m.\u001b[39m, newaxis] \u001b[39m*\u001b[39m amax(s, axis\u001b[39m=\u001b[39m\u001b[39m-\u001b[39m\u001b[39m1\u001b[39m, keepdims\u001b[39m=\u001b[39m\u001b[39mTrue\u001b[39;00m)\n",
      "File \u001b[0;32m<__array_function__ internals>:180\u001b[0m, in \u001b[0;36msvd\u001b[0;34m(*args, **kwargs)\u001b[0m\n",
      "File \u001b[0;32m/opt/anaconda3/envs/deep/lib/python3.10/site-packages/numpy/linalg/linalg.py:1629\u001b[0m, in \u001b[0;36msvd\u001b[0;34m(a, full_matrices, compute_uv, hermitian)\u001b[0m\n\u001b[1;32m   <a href='file:///opt/anaconda3/envs/deep/lib/python3.10/site-packages/numpy/linalg/linalg.py?line=1625'>1626</a>\u001b[0m         s \u001b[39m=\u001b[39m \u001b[39mabs\u001b[39m(s)\n\u001b[1;32m   <a href='file:///opt/anaconda3/envs/deep/lib/python3.10/site-packages/numpy/linalg/linalg.py?line=1626'>1627</a>\u001b[0m         \u001b[39mreturn\u001b[39;00m sort(s)[\u001b[39m.\u001b[39m\u001b[39m.\u001b[39m\u001b[39m.\u001b[39m, ::\u001b[39m-\u001b[39m\u001b[39m1\u001b[39m]\n\u001b[0;32m-> <a href='file:///opt/anaconda3/envs/deep/lib/python3.10/site-packages/numpy/linalg/linalg.py?line=1628'>1629</a>\u001b[0m _assert_stacked_2d(a)\n\u001b[1;32m   <a href='file:///opt/anaconda3/envs/deep/lib/python3.10/site-packages/numpy/linalg/linalg.py?line=1629'>1630</a>\u001b[0m t, result_t \u001b[39m=\u001b[39m _commonType(a)\n\u001b[1;32m   <a href='file:///opt/anaconda3/envs/deep/lib/python3.10/site-packages/numpy/linalg/linalg.py?line=1631'>1632</a>\u001b[0m extobj \u001b[39m=\u001b[39m get_linalg_error_extobj(_raise_linalgerror_svd_nonconvergence)\n",
      "File \u001b[0;32m/opt/anaconda3/envs/deep/lib/python3.10/site-packages/numpy/linalg/linalg.py:196\u001b[0m, in \u001b[0;36m_assert_stacked_2d\u001b[0;34m(*arrays)\u001b[0m\n\u001b[1;32m    <a href='file:///opt/anaconda3/envs/deep/lib/python3.10/site-packages/numpy/linalg/linalg.py?line=193'>194</a>\u001b[0m \u001b[39mfor\u001b[39;00m a \u001b[39min\u001b[39;00m arrays:\n\u001b[1;32m    <a href='file:///opt/anaconda3/envs/deep/lib/python3.10/site-packages/numpy/linalg/linalg.py?line=194'>195</a>\u001b[0m     \u001b[39mif\u001b[39;00m a\u001b[39m.\u001b[39mndim \u001b[39m<\u001b[39m \u001b[39m2\u001b[39m:\n\u001b[0;32m--> <a href='file:///opt/anaconda3/envs/deep/lib/python3.10/site-packages/numpy/linalg/linalg.py?line=195'>196</a>\u001b[0m         \u001b[39mraise\u001b[39;00m LinAlgError(\u001b[39m'\u001b[39m\u001b[39m%d\u001b[39;00m\u001b[39m-dimensional array given. Array must be \u001b[39m\u001b[39m'\u001b[39m\n\u001b[1;32m    <a href='file:///opt/anaconda3/envs/deep/lib/python3.10/site-packages/numpy/linalg/linalg.py?line=196'>197</a>\u001b[0m                 \u001b[39m'\u001b[39m\u001b[39mat least two-dimensional\u001b[39m\u001b[39m'\u001b[39m \u001b[39m%\u001b[39m a\u001b[39m.\u001b[39mndim)\n",
      "\u001b[0;31mLinAlgError\u001b[0m: 0-dimensional array given. Array must be at least two-dimensional"
     ]
    }
   ],
   "source": [
    "w1 = np.array([1, 0, 0, 0, 0, 0, 0])\n",
    "print(f\"First dimension (length): {objective(abalone.I, abalone.N, w1):.5f}\")\n",
    "abalone.plot(w1, 'First dimension (length)')\n",
    "\n",
    "w2 = abalone.I.mean(0) - abalone.N.mean(0)\n",
    "print(f\"Means linear: {objective(abalone.I, abalone.N, w2):.5f}\")\n",
    "abalone.plot(w2, \"Mean\")\n",
    "\n",
    "\n",
    "w3 = fisher(abalone.I, abalone.N)\n",
    "print(f\"Fisher: {objective(abalone.I, abalone.N, w3):.5f}\")\n",
    "abalone.plot(w3, \"Fisher\")\n",
    "\n",
    "abalone.I = expand(abalone.I)\n",
    "abalone.N = expand(abalone.N)\n",
    "w4 = fisher(abalone.I, abalone.N)\n",
    "print(f\"Fisher after expansion: {objective(abalone.I, abalone.N, w4):.5f}\")\n",
    "abalone.plot(w4, \"Fisher after quadratic expansion\")"
   ]
  },
  {
   "cell_type": "code",
   "execution_count": null,
   "metadata": {},
   "outputs": [],
   "source": []
  }
 ],
 "metadata": {
  "kernelspec": {
   "display_name": "Python 3",
   "language": "python",
   "name": "python3"
  },
  "language_info": {
   "codemirror_mode": {
    "name": "ipython",
    "version": 3
   },
   "file_extension": ".py",
   "mimetype": "text/x-python",
   "name": "python",
   "nbconvert_exporter": "python",
   "pygments_lexer": "ipython3",
   "version": "3.10.1"
  }
 },
 "nbformat": 4,
 "nbformat_minor": 1
}
