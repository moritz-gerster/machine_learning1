{
 "cells": [
  {
   "cell_type": "markdown",
   "metadata": {},
   "source": [
    "# Kernel Support Vector Machines\n",
    "\n",
    "In this exercise sheet, we will implement a kernel SVM. Our implementation will be based on a generic quadratic programming optimizer provided in CVXOPT (`python-cvxopt` package, or directly from the website `www.cvxopt.org`). The SVM will then be tested on the UCI breast cancer dataset, a simple binary classification dataset accessible via the `scikit-learn` library.\n",
    "\n",
    "## 1. Building the Gaussian Kernel (5 P)\n",
    "\n",
    "As a starting point, we would like to implement the Gaussian kernel, which we will make use of in our kernel SVM implementation. It is defined as:\n",
    "$$\n",
    "k(x,x') = \\exp \\Big( -\\frac{\\|x-x'\\|^2}{2 \\sigma^2} \\Big)\n",
    "$$\n",
    "\n",
    "* **Implement a function `getGaussianKernel` that returns for a Gaussian kernel of scale $\\sigma$, the Gram matrix of the two data sets given as argument.**"
   ]
  },
  {
   "cell_type": "code",
   "execution_count": 1,
   "metadata": {},
   "outputs": [],
   "source": [
    "import numpy as np\n",
    "import cvxopt\n",
    "import cvxopt.solvers\n",
    "cvxopt.solvers.options['show_progress'] = False\n",
    "import sklearn\n",
    "import sklearn.datasets\n",
    "\n",
    "def getGaussianKernel(X1, X2, scale):\n",
    "    kernel = np.exp(-np.linalg.norm(X1 - X2)**2 / (2*scale**2))\n",
    "    return kernel"
   ]
  },
  {
   "cell_type": "markdown",
   "metadata": {},
   "source": [
    "## 2. Building the Matrices for the CVXOPT Quadratic Solver (20 P)\n",
    "\n",
    "We would like to learn a nonlinear SVM by optimizing its dual. An advantage of the dual SVM compared to the primal SVM is that it allows to use nonlinear kernels such as the Gaussian kernel. The dual SVM consists of solving the following quadratic program:\n",
    "\n",
    "$$\n",
    "\\max_\\alpha \\sum_{i=1}^N \\alpha_i - \\frac12 \\sum_{ij} \\alpha_i \\alpha_j y_i y_j k(x_i,x_j)\n",
    "\\qquad \n",
    "\\text{subject to:}\n",
    "\\qquad 0 \\leq \\alpha_i \\leq C \\qquad \\text{and} \\qquad \\sum_{i=1}^N \\alpha_i y_i = 0.\n",
    "$$\n",
    "\n",
    "We would like to rely on a CVXOPT solver to obtain a solution to our SVM dual. The function `cvxopt.solvers.qp` solves an optimization problem of the type:\n",
    "\n",
    "\\begin{align*}\n",
    "\\min_{\\boldsymbol{x}} \\quad &\\frac12 \\boldsymbol{x}^\\top P \\boldsymbol{x} + \\boldsymbol{q}^\\top \\boldsymbol{x}\\\\\n",
    "\\text{subject to} \\quad & G \\boldsymbol{x} \\preceq \\boldsymbol{h}\\\\\n",
    "\\text{and} \\quad & A \\boldsymbol{x} = \\boldsymbol{b}.\n",
    "\\end{align*}\n",
    "\n",
    "which is of similar form to our dual SVM (note that $\\boldsymbol{x}$ will correspond to the parameters $(\\alpha_i)_i$ of the SVM). We need to build the data structures (vectors and matrices) that makes solving this quadratic problem equivalent to solving our dual SVM.\n",
    "\n",
    "* **Implement a function `getQPMatrices` that builds the matrices `P`, `q`, `G`, `h`, `A`, `b` (of type `cvxopt.matrix`) that need to be passed as argument to the optimizer `cvxopt.solvers.qp`.**"
   ]
  },
  {
   "cell_type": "code",
   "execution_count": 2,
   "metadata": {},
   "outputs": [],
   "source": [
    "def getQPMatrices(K, T, C):\n",
    "    Y = T # T = label\n",
    "    N = len(Y)\n",
    "    eye = np.eye(N)\n",
    "    ones = np.ones(N)\n",
    "    \n",
    "    P = Y @ Y.T * K\n",
    "    P = P.astype(float)\n",
    "    P = cvxopt.matrix(P)\n",
    "    \n",
    "    q = -ones[:, None]\n",
    "    q = q.astype(float)\n",
    "    q = cvxopt.matrix(q)\n",
    "    \n",
    "    A = Y.T\n",
    "    A = A.astype(float)\n",
    "    A = cvxopt.matrix(A)\n",
    "    \n",
    "    b = 0\n",
    "    b = cvxopt.matrix(b)\n",
    "    \n",
    "    G = np.vstack((-eye, eye))\n",
    "    G = cvxopt.matrix(G)\n",
    "    \n",
    "    h = np.vstack((0*ones, C*ones))\n",
    "    h = cvxopt.matrix(h)\n",
    "    return P, q, G, h, A, b"
   ]
  },
  {
   "cell_type": "markdown",
   "metadata": {},
   "source": [
    "## 3. Computing the Bias Parameters (10 P)\n",
    "\n",
    "Given the parameters $(\\alpha_i)_i$ the optimization procedure has found, the prediction of the SVM is given by:\n",
    "\n",
    "$$\n",
    "f(x) = \\text{sign}\\Big(\\sum_{i=1}^N \\alpha_i y_i k(x,x_i) + \\theta\\Big)\n",
    "$$\n",
    "\n",
    "Note that the parameter $\\theta$ has not been computed yet. It can be obtained from any support vector that lies exactly on the margin, or equivalently, whose associated parameter $\\alpha$ is not equal to $0$ or $C$. Calling one such vector \"$x_M$\", the parameter $\\theta$ can be computed as:\n",
    "\n",
    "$$\n",
    "\\theta =  y_M - \\sum_{j=1}^N \\alpha_j y_j k(x_M,x_j) \n",
    "$$\n",
    "\n",
    "* **Implement a function `getTheta` that takes as input the Gram Matrix used for training, the label vector, the solution of our quadratic program, and the hyperparameter C. The function should return the parameter $\\theta$.**"
   ]
  },
  {
   "cell_type": "code",
   "execution_count": 3,
   "metadata": {},
   "outputs": [],
   "source": [
    "def getTheta(K, T, alpha, C):\n",
    "    y = T\n",
    "    cond = alpha != 0 or alpha != C\n",
    "    y_M = y[cond]\n",
    "    theta = y_M - alpha @ y @ K\n",
    "    return theta"
   ]
  },
  {
   "cell_type": "markdown",
   "metadata": {},
   "source": [
    "## 4. Implementing a class `GaussianSVM` (15 P)\n",
    "\n",
    "All functions that are needed to learn the SVM have now been built. We would like to implement a SVM class that connects them and make the SVM easily usable. The class structure is given below and contains two functions, one for training the model, and one for applying it to test data.\n",
    "\n",
    "* **Implement the function `fit` that makes use of the functions `getGaussianKernel`, `getQPMatrices`, `getTheta` you have already implemented. The function should learn the SVM model and store the support vectors, their label, $(\\alpha_i)_i$ and $\\theta$ into the object (`self`).**\n",
    "* **Implement the function `predict` that makes use of the stored information to compute the SVM output for any new collection of data points**"
   ]
  },
  {
   "cell_type": "code",
   "execution_count": 4,
   "metadata": {},
   "outputs": [],
   "source": [
    "class GaussianSVM:\n",
    "\n",
    "    def __init__(self, C=1, scale=1):\n",
    "        \n",
    "        self.C = C\n",
    "        self.scale = scale\n",
    "    \n",
    "    def fit(self, X, T):\n",
    "        kernel = getGaussianKernel(X, X, self.scale)\n",
    "        P, q, G, h, A, b = getQPMatrices(kernel, T, self.C)\n",
    "        self.alpha = cvxopt.solvers.qp(P, q, G, h, A, b)[\"x\"]\n",
    "        \n",
    "    def predict(self, X):\n",
    "        kernel = getGaussianKernel(X, self.X, self.scale)\n",
    "        theta = getTheta(kernel, T, self.alpha, self.C)\n",
    "        Y = np.sign(self.alpha @ T @ kernel + theta)\n",
    "        return Y"
   ]
  },
  {
   "cell_type": "markdown",
   "metadata": {},
   "source": [
    "## 5. Analysis\n",
    "\n",
    "The following code tests the SVM on some breast cancer binary classification dataset for a range of scale and soft-margin parameters. For each combination of parameters, we output the number of support vectors as well as the train and test accuracy averaged over a number of random train/test splits. Running the code below should take approximately 1-2 minutes."
   ]
  },
  {
   "cell_type": "code",
   "execution_count": 5,
   "metadata": {},
   "outputs": [
    {
     "ename": "TypeError",
     "evalue": "'P' must be a 'd' matrix of size (284, 284)",
     "output_type": "error",
     "traceback": [
      "\u001b[0;31m---------------------------------------------------------------------------\u001b[0m",
      "\u001b[0;31mTypeError\u001b[0m                                 Traceback (most recent call last)",
      "\u001b[1;32m/Users/moritzgerster/Documents/Code/ML1/Week8/Exercise sheet 8 (programming)-20211210/sheet08-programming_MG.ipynb Cell 10'\u001b[0m in \u001b[0;36m<module>\u001b[0;34m\u001b[0m\n\u001b[1;32m     <a href='vscode-notebook-cell:/Users/moritzgerster/Documents/Code/ML1/Week8/Exercise%20sheet%208%20%28programming%29-20211210/sheet08-programming_MG.ipynb#ch0000009?line=17'>18</a>\u001b[0m Ttrain, Ttest \u001b[39m=\u001b[39m T[R[:\u001b[39mlen\u001b[39m(R) \u001b[39m/\u001b[39m\u001b[39m/\u001b[39m \u001b[39m2\u001b[39m]] \u001b[39m*\u001b[39m \u001b[39m1\u001b[39m, T[R[\u001b[39mlen\u001b[39m(R) \u001b[39m/\u001b[39m\u001b[39m/\u001b[39m \u001b[39m2\u001b[39m:]] \u001b[39m*\u001b[39m \u001b[39m1\u001b[39m\n\u001b[1;32m     <a href='vscode-notebook-cell:/Users/moritzgerster/Documents/Code/ML1/Week8/Exercise%20sheet%208%20%28programming%29-20211210/sheet08-programming_MG.ipynb#ch0000009?line=19'>20</a>\u001b[0m \u001b[39m# Train and test the SVM\u001b[39;00m\n\u001b[0;32m---> <a href='vscode-notebook-cell:/Users/moritzgerster/Documents/Code/ML1/Week8/Exercise%20sheet%208%20%28programming%29-20211210/sheet08-programming_MG.ipynb#ch0000009?line=20'>21</a>\u001b[0m svm\u001b[39m.\u001b[39;49mfit(Xtrain, Ttrain)\n\u001b[1;32m     <a href='vscode-notebook-cell:/Users/moritzgerster/Documents/Code/ML1/Week8/Exercise%20sheet%208%20%28programming%29-20211210/sheet08-programming_MG.ipynb#ch0000009?line=21'>22</a>\u001b[0m acctrain \u001b[39m+\u001b[39m\u001b[39m=\u001b[39m [(svm\u001b[39m.\u001b[39mpredict(Xtrain)\u001b[39m==\u001b[39mTtrain)\u001b[39m.\u001b[39mmean()]\n\u001b[1;32m     <a href='vscode-notebook-cell:/Users/moritzgerster/Documents/Code/ML1/Week8/Exercise%20sheet%208%20%28programming%29-20211210/sheet08-programming_MG.ipynb#ch0000009?line=22'>23</a>\u001b[0m acctest  \u001b[39m+\u001b[39m\u001b[39m=\u001b[39m [(svm\u001b[39m.\u001b[39mpredict(Xtest)\u001b[39m==\u001b[39mTtest)\u001b[39m.\u001b[39mmean()]\n",
      "\u001b[1;32m/Users/moritzgerster/Documents/Code/ML1/Week8/Exercise sheet 8 (programming)-20211210/sheet08-programming_MG.ipynb Cell 8'\u001b[0m in \u001b[0;36mGaussianSVM.fit\u001b[0;34m(self, X, T)\u001b[0m\n\u001b[1;32m      <a href='vscode-notebook-cell:/Users/moritzgerster/Documents/Code/ML1/Week8/Exercise%20sheet%208%20%28programming%29-20211210/sheet08-programming_MG.ipynb#ch0000007?line=8'>9</a>\u001b[0m kernel \u001b[39m=\u001b[39m getGaussianKernel(X, X, \u001b[39mself\u001b[39m\u001b[39m.\u001b[39mscale)\n\u001b[1;32m     <a href='vscode-notebook-cell:/Users/moritzgerster/Documents/Code/ML1/Week8/Exercise%20sheet%208%20%28programming%29-20211210/sheet08-programming_MG.ipynb#ch0000007?line=9'>10</a>\u001b[0m P, q, G, h, A, b \u001b[39m=\u001b[39m getQPMatrices(kernel, T, \u001b[39mself\u001b[39m\u001b[39m.\u001b[39mC)\n\u001b[0;32m---> <a href='vscode-notebook-cell:/Users/moritzgerster/Documents/Code/ML1/Week8/Exercise%20sheet%208%20%28programming%29-20211210/sheet08-programming_MG.ipynb#ch0000007?line=10'>11</a>\u001b[0m \u001b[39mself\u001b[39m\u001b[39m.\u001b[39malpha \u001b[39m=\u001b[39m cvxopt\u001b[39m.\u001b[39;49msolvers\u001b[39m.\u001b[39;49mqp(P, q, G, h, A, b)[\u001b[39m\"\u001b[39m\u001b[39mx\u001b[39m\u001b[39m\"\u001b[39m]\n",
      "File \u001b[0;32m/opt/anaconda3/envs/deep/lib/python3.10/site-packages/cvxopt/coneprog.py:4485\u001b[0m, in \u001b[0;36mqp\u001b[0;34m(P, q, G, h, A, b, solver, kktsolver, initvals, **kwargs)\u001b[0m\n\u001b[1;32m   <a href='file:///opt/anaconda3/envs/deep/lib/python3.10/site-packages/cvxopt/coneprog.py?line=4474'>4475</a>\u001b[0m         pinfres, dinfres \u001b[39m=\u001b[39m \u001b[39mNone\u001b[39;00m, \u001b[39mNone\u001b[39;00m\n\u001b[1;32m   <a href='file:///opt/anaconda3/envs/deep/lib/python3.10/site-packages/cvxopt/coneprog.py?line=4476'>4477</a>\u001b[0m     \u001b[39mreturn\u001b[39;00m {\u001b[39m'\u001b[39m\u001b[39mstatus\u001b[39m\u001b[39m'\u001b[39m: status, \u001b[39m'\u001b[39m\u001b[39mx\u001b[39m\u001b[39m'\u001b[39m: x, \u001b[39m'\u001b[39m\u001b[39ms\u001b[39m\u001b[39m'\u001b[39m: s, \u001b[39m'\u001b[39m\u001b[39my\u001b[39m\u001b[39m'\u001b[39m: y, \u001b[39m'\u001b[39m\u001b[39mz\u001b[39m\u001b[39m'\u001b[39m: z,\n\u001b[1;32m   <a href='file:///opt/anaconda3/envs/deep/lib/python3.10/site-packages/cvxopt/coneprog.py?line=4477'>4478</a>\u001b[0m         \u001b[39m'\u001b[39m\u001b[39mprimal objective\u001b[39m\u001b[39m'\u001b[39m: pcost, \u001b[39m'\u001b[39m\u001b[39mdual objective\u001b[39m\u001b[39m'\u001b[39m: dcost,\n\u001b[1;32m   <a href='file:///opt/anaconda3/envs/deep/lib/python3.10/site-packages/cvxopt/coneprog.py?line=4478'>4479</a>\u001b[0m         \u001b[39m'\u001b[39m\u001b[39mgap\u001b[39m\u001b[39m'\u001b[39m: gap, \u001b[39m'\u001b[39m\u001b[39mrelative gap\u001b[39m\u001b[39m'\u001b[39m: relgap,\n\u001b[0;32m   (...)\u001b[0m\n\u001b[1;32m   <a href='file:///opt/anaconda3/envs/deep/lib/python3.10/site-packages/cvxopt/coneprog.py?line=4481'>4482</a>\u001b[0m         \u001b[39m'\u001b[39m\u001b[39mresidual as primal infeasibility certificate\u001b[39m\u001b[39m'\u001b[39m: pinfres,\n\u001b[1;32m   <a href='file:///opt/anaconda3/envs/deep/lib/python3.10/site-packages/cvxopt/coneprog.py?line=4482'>4483</a>\u001b[0m         \u001b[39m'\u001b[39m\u001b[39mresidual as dual infeasibility certificate\u001b[39m\u001b[39m'\u001b[39m: dinfres}\n\u001b[0;32m-> <a href='file:///opt/anaconda3/envs/deep/lib/python3.10/site-packages/cvxopt/coneprog.py?line=4484'>4485</a>\u001b[0m \u001b[39mreturn\u001b[39;00m coneqp(P, q, G, h, \u001b[39mNone\u001b[39;49;00m, A,  b, initvals, kktsolver \u001b[39m=\u001b[39;49m kktsolver, options \u001b[39m=\u001b[39;49m options)\n",
      "File \u001b[0;32m/opt/anaconda3/envs/deep/lib/python3.10/site-packages/cvxopt/coneprog.py:1841\u001b[0m, in \u001b[0;36mconeqp\u001b[0;34m(P, q, G, h, dims, A, b, initvals, kktsolver, xnewcopy, xdot, xaxpy, xscal, ynewcopy, ydot, yaxpy, yscal, **kwargs)\u001b[0m\n\u001b[1;32m   <a href='file:///opt/anaconda3/envs/deep/lib/python3.10/site-packages/cvxopt/coneprog.py?line=1838'>1839</a>\u001b[0m \u001b[39mif\u001b[39;00m matrixP:\n\u001b[1;32m   <a href='file:///opt/anaconda3/envs/deep/lib/python3.10/site-packages/cvxopt/coneprog.py?line=1839'>1840</a>\u001b[0m     \u001b[39mif\u001b[39;00m P\u001b[39m.\u001b[39mtypecode \u001b[39m!=\u001b[39m \u001b[39m'\u001b[39m\u001b[39md\u001b[39m\u001b[39m'\u001b[39m \u001b[39mor\u001b[39;00m P\u001b[39m.\u001b[39msize \u001b[39m!=\u001b[39m (q\u001b[39m.\u001b[39msize[\u001b[39m0\u001b[39m], q\u001b[39m.\u001b[39msize[\u001b[39m0\u001b[39m]):\n\u001b[0;32m-> <a href='file:///opt/anaconda3/envs/deep/lib/python3.10/site-packages/cvxopt/coneprog.py?line=1840'>1841</a>\u001b[0m         \u001b[39mraise\u001b[39;00m \u001b[39mTypeError\u001b[39;00m(\u001b[39m\"\u001b[39m\u001b[39m'\u001b[39m\u001b[39mP\u001b[39m\u001b[39m'\u001b[39m\u001b[39m must be a \u001b[39m\u001b[39m'\u001b[39m\u001b[39md\u001b[39m\u001b[39m'\u001b[39m\u001b[39m matrix of size (\u001b[39m\u001b[39m%d\u001b[39;00m\u001b[39m, \u001b[39m\u001b[39m%d\u001b[39;00m\u001b[39m)\u001b[39m\u001b[39m\"\u001b[39m\\\n\u001b[1;32m   <a href='file:///opt/anaconda3/envs/deep/lib/python3.10/site-packages/cvxopt/coneprog.py?line=1841'>1842</a>\u001b[0m             \u001b[39m%\u001b[39m(q\u001b[39m.\u001b[39msize[\u001b[39m0\u001b[39m], q\u001b[39m.\u001b[39msize[\u001b[39m0\u001b[39m]))\n\u001b[1;32m   <a href='file:///opt/anaconda3/envs/deep/lib/python3.10/site-packages/cvxopt/coneprog.py?line=1842'>1843</a>\u001b[0m     \u001b[39mdef\u001b[39;00m \u001b[39mfP\u001b[39m(x, y, alpha \u001b[39m=\u001b[39m \u001b[39m1.0\u001b[39m, beta \u001b[39m=\u001b[39m \u001b[39m0.0\u001b[39m):\n\u001b[1;32m   <a href='file:///opt/anaconda3/envs/deep/lib/python3.10/site-packages/cvxopt/coneprog.py?line=1843'>1844</a>\u001b[0m         base\u001b[39m.\u001b[39msymv(P, x, y, alpha \u001b[39m=\u001b[39m alpha, beta \u001b[39m=\u001b[39m beta)\n",
      "\u001b[0;31mTypeError\u001b[0m: 'P' must be a 'd' matrix of size (284, 284)"
     ]
    }
   ],
   "source": [
    "D = sklearn.datasets.load_breast_cancer()\n",
    "X = D['data']\n",
    "T = D['target']\n",
    "T = (T==1) * 2 - 1\n",
    "\n",
    "for scale in [30, 100, 300, 1000, 3000]:\n",
    "    for C in [10, 100, 1000, 10000]:\n",
    "        \n",
    "        acctrain, acctest, nbsvs = [], [], []\n",
    "        \n",
    "        svm = GaussianSVM(C=C, scale=scale)\n",
    "        \n",
    "        for i in range(10):\n",
    "\n",
    "            # Split the data\n",
    "            R = np.random.mtrand.RandomState(i).permutation(len(X))\n",
    "            Xtrain, Xtest = X[R[:len(R) // 2]] * 1, X[R[len(R) // 2:]] * 1\n",
    "            Ttrain, Ttest = T[R[:len(R) // 2]] * 1, T[R[len(R) // 2:]] * 1\n",
    "\n",
    "            # Train and test the SVM\n",
    "            svm.fit(Xtrain, Ttrain)\n",
    "            acctrain += [(svm.predict(Xtrain)==Ttrain).mean()]\n",
    "            acctest  += [(svm.predict(Xtest)==Ttest).mean()]\n",
    "            nbsvs += [len(svm.X) * 1]\n",
    "\n",
    "        print('scale=%9.1f  C=%9.1f  nSV: %4d  train: %.3f  test: %.3f'%(\n",
    "            scale, C, np.mean(nbsvs), np.mean(acctrain), np.mean(acctest)))\n",
    "    print('')"
   ]
  },
  {
   "cell_type": "markdown",
   "metadata": {},
   "source": [
    "We observe that the highest accuracy is obtained with a scale parameter that is neither too small nor too large. Best parameters are also often associated to a low number of support vectors."
   ]
  },
  {
   "cell_type": "markdown",
   "metadata": {},
   "source": []
  },
  {
   "cell_type": "markdown",
   "metadata": {},
   "source": []
  }
 ],
 "metadata": {
  "kernelspec": {
   "display_name": "Python 3",
   "language": "python",
   "name": "python3"
  },
  "language_info": {
   "codemirror_mode": {
    "name": "ipython",
    "version": 3
   },
   "file_extension": ".py",
   "mimetype": "text/x-python",
   "name": "python",
   "nbconvert_exporter": "python",
   "pygments_lexer": "ipython3",
   "version": "3.10.1"
  }
 },
 "nbformat": 4,
 "nbformat_minor": 1
}
